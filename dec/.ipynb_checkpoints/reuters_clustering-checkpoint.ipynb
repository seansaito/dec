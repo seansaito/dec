{
 "cells": [
  {
   "cell_type": "code",
   "execution_count": 1,
   "metadata": {
    "collapsed": false
   },
   "outputs": [],
   "source": [
    "import os\n",
    "os.environ['PATH'] = '../caffe/build/tools:'+os.environ['PATH']\n",
    "import sys\n",
    "sys.path = ['../caffe/python'] + sys.path\n",
    "import numpy as np\n",
    "import caffe\n",
    "import datetime\n",
    "from sklearn.neighbors import KNeighborsClassifier\n",
    "from sklearn.manifold import TSNE\n",
    "\n",
    "net = \"reutersidf_pt_net.prototxt\"\n",
    "model = \"exp/reutersidf/save_iter_100000.caffemodel\"\n",
    "\n",
    "net = caffe.Net(net, model)"
   ]
  },
  {
   "cell_type": "code",
   "execution_count": 2,
   "metadata": {
    "collapsed": false
   },
   "outputs": [
    {
     "data": {
      "text/plain": [
       "OrderedDict([('inner1', <caffe._caffe.BlobVec at 0x7feb09634bd0>),\n",
       "             ('inner2', <caffe._caffe.BlobVec at 0x7feb0524da50>),\n",
       "             ('inner3', <caffe._caffe.BlobVec at 0x7feb0524d9d0>),\n",
       "             ('output', <caffe._caffe.BlobVec at 0x7feb0524de50>),\n",
       "             ('d_inner3', <caffe._caffe.BlobVec at 0x7feb0524ded0>),\n",
       "             ('d_inner2', <caffe._caffe.BlobVec at 0x7feb0524df50>),\n",
       "             ('d_inner1', <caffe._caffe.BlobVec at 0x7feb04da5050>),\n",
       "             ('d_data', <caffe._caffe.BlobVec at 0x7feb04da50d0>)])"
      ]
     },
     "execution_count": 2,
     "metadata": {},
     "output_type": "execute_result"
    }
   ],
   "source": [
    "net.params"
   ]
  },
  {
   "cell_type": "code",
   "execution_count": 3,
   "metadata": {
    "collapsed": false
   },
   "outputs": [
    {
     "data": {
      "text/plain": [
       "['inner1',\n",
       " 'inner2',\n",
       " 'inner3',\n",
       " 'output',\n",
       " 'd_inner3',\n",
       " 'd_inner2',\n",
       " 'd_inner1',\n",
       " 'd_data']"
      ]
     },
     "execution_count": 3,
     "metadata": {},
     "output_type": "execute_result"
    }
   ],
   "source": [
    "net.params.keys()"
   ]
  },
  {
   "cell_type": "code",
   "execution_count": 4,
   "metadata": {
    "collapsed": false
   },
   "outputs": [
    {
     "data": {
      "text/plain": [
       "(1, 1, 500, 2000)"
      ]
     },
     "execution_count": 4,
     "metadata": {},
     "output_type": "execute_result"
    }
   ],
   "source": [
    "inner1 = net.params[\"inner1\"][0].data\n",
    "inner1.shape"
   ]
  },
  {
   "cell_type": "code",
   "execution_count": 5,
   "metadata": {
    "collapsed": false
   },
   "outputs": [
    {
     "data": {
      "text/plain": [
       "(256, 500, 1, 1)"
      ]
     },
     "execution_count": 5,
     "metadata": {},
     "output_type": "execute_result"
    }
   ],
   "source": [
    "net.forward(end=\"inner1\")[\"inner1\"].shape"
   ]
  },
  {
   "cell_type": "code",
   "execution_count": 16,
   "metadata": {
    "collapsed": false
   },
   "outputs": [],
   "source": [
    "layer_names = net.params.keys()\n",
    "res = []\n",
    "for i in range(4):\n",
    "    temp = [net.forward(end=layer_names[i])[layer_names[i]] for n in range(40)]\n",
    "    combined = np.concatenate(temp, axis=0)\n",
    "    res.append(combined)"
   ]
  },
  {
   "cell_type": "code",
   "execution_count": 18,
   "metadata": {
    "collapsed": false
   },
   "outputs": [],
   "source": [
    "flattened = [np.array([row.ravel() for row in layer]) for layer in res]"
   ]
  },
  {
   "cell_type": "code",
   "execution_count": 21,
   "metadata": {
    "collapsed": false
   },
   "outputs": [
    {
     "data": {
      "text/plain": [
       "(10240, 2000)"
      ]
     },
     "execution_count": 21,
     "metadata": {},
     "output_type": "execute_result"
    }
   ],
   "source": [
    "flattened[2].shape"
   ]
  },
  {
   "cell_type": "code",
   "execution_count": 23,
   "metadata": {
    "collapsed": false
   },
   "outputs": [],
   "source": [
    "combined = np.hstack(flattened)"
   ]
  },
  {
   "cell_type": "code",
   "execution_count": 24,
   "metadata": {
    "collapsed": false
   },
   "outputs": [
    {
     "data": {
      "text/plain": [
       "(10240, 3004)"
      ]
     },
     "execution_count": 24,
     "metadata": {},
     "output_type": "execute_result"
    }
   ],
   "source": [
    "combined.shape"
   ]
  },
  {
   "cell_type": "code",
   "execution_count": 25,
   "metadata": {
    "collapsed": true
   },
   "outputs": [],
   "source": [
    "# Scale and visualize the embedding vectors\n",
    "def plot_embedding(X, y, title=None):\n",
    "    x_min, x_max = np.min(X, 0), np.max(X, 0)\n",
    "    X = (X - x_min) / (x_max - x_min)\n",
    "\n",
    "    plt.figure(figsize=(20, 10))\n",
    "    ax = plt.subplot(111)\n",
    "    for i in range(X.shape[0]):\n",
    "        plt.text(X[i, 0], X[i, 1], str(y[i]),\n",
    "                 color=plt.cm.Set1(y[i] / 10.),\n",
    "                 fontdict={'weight': 'bold', 'size': 12})\n",
    "\n",
    "    plt.xticks([]), plt.yticks([])\n",
    "    if title is not None:\n",
    "        plt.title(title)\n",
    "\n",
    "from sklearn.manifold import TSNE\n",
    "\n",
    "tsne = TSNE(n_components=2, random_state=0)\n",
    "np.set_printoptions(suppress=True)\n",
    "X_tsne = tsne.fit_transform(combined)"
   ]
  },
  {
   "cell_type": "code",
   "execution_count": 31,
   "metadata": {
    "collapsed": true
   },
   "outputs": [],
   "source": [
    "net = \"reutersidf_stack_net.prototxt\"\n",
    "model = \"reutersidf_stack_init_final.caffemodel\"\n",
    "\n",
    "net = caffe.Net(net, model)"
   ]
  },
  {
   "cell_type": "code",
   "execution_count": 32,
   "metadata": {
    "collapsed": false
   },
   "outputs": [
    {
     "data": {
      "text/plain": [
       "OrderedDict([('inner1', <caffe._caffe.BlobVec at 0x7feb04dc2750>),\n",
       "             ('inner2', <caffe._caffe.BlobVec at 0x7feb04dc2a50>),\n",
       "             ('inner3', <caffe._caffe.BlobVec at 0x7feaf7222550>),\n",
       "             ('output', <caffe._caffe.BlobVec at 0x7feaf7222f50>),\n",
       "             ('d_inner3', <caffe._caffe.BlobVec at 0x7feaf7222150>)])"
      ]
     },
     "execution_count": 32,
     "metadata": {},
     "output_type": "execute_result"
    }
   ],
   "source": [
    "net.params"
   ]
  },
  {
   "cell_type": "code",
   "execution_count": null,
   "metadata": {
    "collapsed": true
   },
   "outputs": [],
   "source": []
  }
 ],
 "metadata": {
  "kernelspec": {
   "display_name": "Python 2",
   "language": "python",
   "name": "python2"
  },
  "language_info": {
   "codemirror_mode": {
    "name": "ipython",
    "version": 2
   },
   "file_extension": ".py",
   "mimetype": "text/x-python",
   "name": "python",
   "nbconvert_exporter": "python",
   "pygments_lexer": "ipython2",
   "version": "2.7.6"
  }
 },
 "nbformat": 4,
 "nbformat_minor": 2
}
