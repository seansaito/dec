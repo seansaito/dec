{
 "cells": [
  {
   "cell_type": "code",
   "execution_count": 12,
   "metadata": {
    "collapsed": false
   },
   "outputs": [],
   "source": [
    "import caffe\n",
    "import lmdb\n",
    "from PIL import Image\n",
    "import cv2\n",
    "import numpy as np\n",
    "%matplotlib inline\n",
    "import matplotlib.pyplot as plt\n",
    "import os\n",
    "from sklearn.cross_validation import train_test_split\n",
    "from keras.datasets import cifar10\n",
    "\n",
    "(X_train, y_train), (X_test, y_test) = cifar10.load_data()"
   ]
  },
  {
   "cell_type": "code",
   "execution_count": 13,
   "metadata": {
    "collapsed": true
   },
   "outputs": [],
   "source": [
    "# Turn the images into vectors\n",
    "X_train = np.array([row.ravel() for row in X_train])\n",
    "X_test = np.array([row.ravel() for row in X_test])\n",
    "X_train = X_train / 255.\n",
    "X_test = X_test / 255.\n",
    "mean_img = np.mean(X_train, axis=0)\n",
    "X_train = X_train - mean_img\n",
    "X_test = X_test - mean_img\n",
    "y_train = y_train.ravel()\n",
    "y_test = y_test.ravel()\n",
    "\n",
    "# Add axes\n",
    "X_train = np.array([row[:, np.newaxis, np.newaxis] for row in X_train])\n",
    "X_test = np.array([row[:, np.newaxis, np.newaxis] for row in X_test])"
   ]
  },
  {
   "cell_type": "code",
   "execution_count": 14,
   "metadata": {
    "collapsed": false
   },
   "outputs": [
    {
     "name": "stdout",
     "output_type": "stream",
     "text": [
      "(50000, 3072, 1, 1)\n",
      "(10000, 3072, 1, 1)\n"
     ]
    }
   ],
   "source": [
    "print X_train.shape\n",
    "print X_test.shape"
   ]
  },
  {
   "cell_type": "code",
   "execution_count": 15,
   "metadata": {
    "collapsed": true
   },
   "outputs": [],
   "source": [
    "def write_to_lmdb(lmdb_name, data, labels=None):\n",
    "    map_size = np.array(data).nbytes * 1000\n",
    "    env = lmdb.open(lmdb_name, map_size=map_size)\n",
    "    \n",
    "    with env.begin(write=True) as txn:\n",
    "        for i in range(len(data)):\n",
    "            in_ = data[i]\n",
    "            datum = caffe.proto.caffe_pb2.Datum()\n",
    "            datum.channels = in_.shape[0]\n",
    "            datum.height = in_.shape[1]\n",
    "            datum.width = in_.shape[2]\n",
    "            datum.data = in_.tobytes()  # or .tostring() if numpy < 1.9\n",
    "            datum.label = int(labels[i])\n",
    "            str_id = '{:08}'.format(i)\n",
    "            txn.put(str_id, datum.SerializeToString())"
   ]
  },
  {
   "cell_type": "code",
   "execution_count": 16,
   "metadata": {
    "collapsed": false
   },
   "outputs": [],
   "source": [
    "write_to_lmdb(\"cifar10_train_lmdb\", X_train, y_train)"
   ]
  },
  {
   "cell_type": "code",
   "execution_count": 17,
   "metadata": {
    "collapsed": false
   },
   "outputs": [],
   "source": [
    "write_to_lmdb(\"cifar10_test_lmdb\", X_test, y_test)"
   ]
  },
  {
   "cell_type": "code",
   "execution_count": null,
   "metadata": {
    "collapsed": false
   },
   "outputs": [],
   "source": [
    "X_train.shape"
   ]
  },
  {
   "cell_type": "code",
   "execution_count": null,
   "metadata": {
    "collapsed": true
   },
   "outputs": [],
   "source": []
  }
 ],
 "metadata": {
  "kernelspec": {
   "display_name": "Python 2",
   "language": "python",
   "name": "python2"
  },
  "language_info": {
   "codemirror_mode": {
    "name": "ipython",
    "version": 2
   },
   "file_extension": ".py",
   "mimetype": "text/x-python",
   "name": "python",
   "nbconvert_exporter": "python",
   "pygments_lexer": "ipython2",
   "version": "2.7.6"
  }
 },
 "nbformat": 4,
 "nbformat_minor": 2
}
